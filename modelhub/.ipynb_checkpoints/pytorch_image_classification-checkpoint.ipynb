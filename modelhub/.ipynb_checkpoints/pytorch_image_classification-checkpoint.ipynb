{
 "cells": [
  {
   "cell_type": "markdown",
   "metadata": {},
   "source": [
    "# Image Classification\n",
    "\n"
   ]
  },
  {
   "cell_type": "markdown",
   "metadata": {},
   "source": [
    "## Common settings:"
   ]
  },
  {
   "cell_type": "code",
   "execution_count": 1,
   "metadata": {},
   "outputs": [],
   "source": [
    "import os\n",
    "from pytidl.benchmark import analysis\n",
    "from pytidl.benchmark.model.pytidl_model import PyTIDLModel\n",
    "\n",
    "model_type = PyTIDLModel\n",
    "workDirs = './work_dirs'\n",
    "numFrames = 1000\n",
    "vision_modelzoo = './modelzoo/jai-modelzoo/pytorch/vision'\n",
    "\n",
    "common_configs = dict(\n",
    "    numParamBits=32, #8, #16, #32,\n",
    "    numFramesCalibration=100,\n",
    "    calibrationBackend=None, #'pytorch'\n",
    "    calibrationOption=0, #0, #7,\n",
    "    biasCalibrationIterations=10,\n",
    "    writeOutput=1 #2 #change to 2 after TIDL issue is fixed\n",
    ")"
   ]
  },
  {
   "cell_type": "markdown",
   "metadata": {},
   "source": [
    "#### PyTorch-Jacinto-AI-DevKit MobileNetV2"
   ]
  },
  {
   "cell_type": "code",
   "execution_count": 2,
   "metadata": {},
   "outputs": [
    {
     "name": "stdout",
     "output_type": "stream",
     "text": [
      "\n",
      "\n",
      "classification : model_path=./modelzoo/jai-modelzoo/pytorch/vision/classifcation/jai-devkit/imagenet/mobilenet/mobilenet_v2_2019-12-24_15-32-12_opset9.onnx\n",
      "=> model import\n",
      "=> model inference\n",
      "args= {'inData': {'path': './datasets/imagenet/train', 'split': './datasets/imagenet/train.txt', 'shuffle': True}, 'numFrames': 100, 'inputNetFile': '/data/files/a0393608/files/work/ti/bitbucket/jacinto-ai/jacinto-ai-devkit/modelhub/modelzoo/jai-modelzoo/pytorch/vision/classifcation/jai-devkit/imagenet/mobilenet/mobilenet_v2_2019-12-24_15-32-12_opset9.onnx', 'inDataNorm': 1, 'inMean': (123.675, 116.28, 103.53), 'inScale': (0.017125, 0.017507, 0.017429), 'inResizeType': 1, 'resizeWidth': 256, 'resizeHeight': 256, 'inWidth': 224, 'inHeight': 224, 'numParamBits': 32, 'calibrationOption': 0, 'biasCalibrationIterations': 10, 'writeOutput': 1, 'modelType': 2, 'inNumChannels': 3, 'quantizationStyle': 3, 'foldPreBnConv2D': 0, 'inDataFormat': 1, 'postProcType': 1, 'metaArchType': None, 'metaLayersNamesList': None, 'inDataNamesList': None, 'outDataNamesList': None, 'writeTraceLevel': 0, 'debugTraceLevel': 0, 'totNumClasses': None, 'outputNetFile': '/data/files/a0393608/files/work/ti/bitbucket/jacinto-ai/jacinto-ai-devkit/modelhub/work_dirs/pytorch/image_classification/devkit/mobilenet_v2_2019-12-24_15-32-12_opset9/import/tidl_net.bin', 'outputParamsFile': '/data/files/a0393608/files/work/ti/bitbucket/jacinto-ai/jacinto-ai-devkit/modelhub/work_dirs/pytorch/image_classification/devkit/mobilenet_v2_2019-12-24_15-32-12_opset9/import/tidl_io_'}\n",
      "progress 1000/1000... rate=11.11 Hz, eta=0:00:00, total=0:01:30, wall=16:51 IST{'metric': 74.3, 'metric_unit': 'Classification Accuracy Top1%', 'elapsed_time': 96.27221059799194}\n"
     ]
    }
   ],
   "source": [
    "# classification imagenet_mobilenetv2_224x224 expected_metric: 72.13% top-1 accuracy\n",
    "model_cfg = dict(taskType='classification',\n",
    "     inputNetFile=f'{vision_modelzoo}/classifcation/jai-devkit/imagenet/mobilenet/mobilenet_v2_2019-12-24_15-32-12_opset9.onnx',\n",
    "     inDataCalibration=dict(path='./datasets/imagenet/train', split='./datasets/imagenet/train.txt', shuffle=True),\n",
    "     inData=dict(path='./datasets/imagenet/val', split='./datasets/imagenet/val.txt', shuffle=True),\n",
    "     inDataNorm=1,\n",
    "     inMean=(123.675, 116.28, 103.53),\n",
    "     inScale=(0.017125, 0.017507, 0.017429),\n",
    "     inResizeType=1, #KeepAR\n",
    "     resizeWidth=256,\n",
    "     resizeHeight=256,\n",
    "     inWidth=224,\n",
    "     inHeight=224,\n",
    "     numFrames=min(numFrames,50000),\n",
    "     **common_configs)\n",
    "\n",
    "workDir = f'{workDirs}/pytorch/image_classification/devkit'\n",
    "analysis.accuracy_benchmark(model_cfg, model_type, workDir)\n"
   ]
  },
  {
   "cell_type": "code",
   "execution_count": null,
   "metadata": {},
   "outputs": [],
   "source": [
    "#### PyTorch-Jacinto-AI-DevKit MobileNetV1"
   ]
  },
  {
   "cell_type": "markdown",
   "metadata": {},
   "source": [
    "# classification imagenet_mobilenetv1_224x224 expected_metric: 71.89% top-1 accuracy\n",
    "model_cfg = dict(taskType='classification',\n",
    "     inputNetFile=f'{vision_modelzoo}/classifcation/jai-devkit/imagenet/mobilenet/mobilenet_v1_2019-09-06_17-15-44_opset9.onnx',\n",
    "     inDataCalibration=dict(path='./datasets/imagenet/train', split='./datasets/imagenet/train.txt', shuffle=True),\n",
    "     inData=dict(path='./datasets/imagenet/val', split='./datasets/imagenet/val.txt', shuffle=True),\n",
    "     inDataNorm=1,\n",
    "     inMean=(123.675, 116.28, 103.53),\n",
    "     inScale=(0.017125, 0.017507, 0.017429),\n",
    "     inResizeType=1, #KeepAR\n",
    "     resizeWidth=256,\n",
    "     resizeHeight=256,\n",
    "     inWidth=224,\n",
    "     inHeight=224,\n",
    "     numFrames=min(numFrames,50000),\n",
    "     **common_configs)\n",
    "\n",
    "workDir = f'{workDirs}/pytorch/image_classification/devkit'\n",
    "analysis.accuracy_benchmark(model_cfg, model_type, workDir)"
   ]
  }
 ],
 "metadata": {
  "kernelspec": {
   "display_name": "Python 3",
   "language": "python",
   "name": "python3"
  },
  "language_info": {
   "codemirror_mode": {
    "name": "ipython",
    "version": 3
   },
   "file_extension": ".py",
   "mimetype": "text/x-python",
   "name": "python",
   "nbconvert_exporter": "python",
   "pygments_lexer": "ipython3",
   "version": "3.7.6"
  }
 },
 "nbformat": 4,
 "nbformat_minor": 4
}
