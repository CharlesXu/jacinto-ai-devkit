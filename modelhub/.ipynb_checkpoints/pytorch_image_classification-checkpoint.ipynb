{
 "cells": [
  {
   "cell_type": "markdown",
   "metadata": {},
   "source": [
    "# Image Classification"
   ]
  },
  {
   "cell_type": "markdown",
   "metadata": {},
   "source": [
    "## Common settings:"
   ]
  },
  {
   "cell_type": "code",
   "execution_count": 1,
   "metadata": {},
   "outputs": [],
   "source": [
    "from pytidl.benchmark.analysis import accuracy_benchmark\n",
    "from pytidl.benchmark.model.pytidl_model import PyTIDLModel\n",
    "from pytidl.benchmark.datasets.image_classification import ImageNetDataset\n",
    "\n",
    "model_type = PyTIDLModel\n",
    "workDirs = './work_dirs'\n",
    "numFrames = 1000\n",
    "vision_modelzoo = './dependencies/modelzoo/jai-modelzoo/pytorch/vision'\n",
    "datasets_path = './dependencies/datasets'\n",
    "\n",
    "common_cfg = dict(\n",
    "    numParamBits=8, #16, #32,\n",
    "    numFramesCalibration=100,\n",
    "    calibrationOption=7, #0, #7,\n",
    ")"
   ]
  },
  {
   "cell_type": "markdown",
   "metadata": {},
   "source": [
    "## PyTorch-Jacinto-AI-DevKit MobileNetV2"
   ]
  },
  {
   "cell_type": "code",
   "execution_count": 2,
   "metadata": {},
   "outputs": [],
   "source": [
    "# classification imagenet_mobilenetv2_224x224 expected_metric: 72.13% top-1 accuracy\n",
    "model_cfg = dict(taskType='classification',\n",
    "     inputNetFile=f'{vision_modelzoo}/classifcation/jai-devkit/imagenet/mobilenet/mobilenet_v2_2019-12-24_15-32-12_opset9.onnx',\n",
    "     inDataCalibration=dict(path=f'{datasets_path}/imagenet/train', split=f'{datasets_path}/imagenet/train.txt', shuffle=True),\n",
    "     inData=dict(path=f'{datasets_path}/imagenet/val', split=f'{datasets_path}/imagenet/val.txt', shuffle=True),\n",
    "     inDataNorm=1,\n",
    "     inMean=(123.675, 116.28, 103.53),\n",
    "     inScale=(0.017125, 0.017507, 0.017429),\n",
    "     inResizeType=1, #KeepAR\n",
    "     resizeWidth=256,\n",
    "     resizeHeight=256,\n",
    "     inWidth=224,\n",
    "     inHeight=224,\n",
    "     numFrames=min(numFrames,50000),\n",
    "     **common_cfg)"
   ]
  },
  {
   "cell_type": "markdown",
   "metadata": {},
   "source": [
    "#### Simple Example"
   ]
  },
  {
   "cell_type": "markdown",
   "metadata": {},
   "source": [
    "Let's try to classify these images (these are public domain images obtained via ccsearch.creativecommons.org):\n",
    "<div class=\"row\">\n",
    "<div class=\"column\"> <img src=https://live.staticflickr.com/4639/27753361309_6a1d8111c6.jpg width=256 height=256 style=\"float:left\" /> </div>\n",
    "<div class=\"column\"> <img src='https://live.staticflickr.com/874/42446287531_b27162a558_b.jpg' width=256 height=256 style=\"float:left\" /> </div>\n",
    "<div class=\"column\"> <img src=https://upload.wikimedia.org/wikipedia/commons/e/e9/Retriever_04.JPG width=225 height=225 style=\"float:left\" /> </div>\n",
    "</div>"
   ]
  },
  {
   "cell_type": "code",
   "execution_count": 3,
   "metadata": {},
   "outputs": [
    {
     "name": "stdout",
     "output_type": "stream",
     "text": [
      "args= {'inputNetFile': '/data/files/a0393608/files/work/ti/bitbucket/jacinto-ai/jacinto-ai-devkit/modelhub/dependencies/modelzoo/jai-modelzoo/pytorch/vision/classifcation/jai-devkit/imagenet/mobilenet/mobilenet_v2_2019-12-24_15-32-12_opset9.onnx', 'inDataNorm': 1, 'inMean': (123.675, 116.28, 103.53), 'inScale': (0.017125, 0.017507, 0.017429), 'numParamBits': 8, 'inData': './dependencies/examples/images', 'modelType': 2, 'inNumChannels': 3, 'quantizationStyle': 3, 'foldPreBnConv2D': 0, 'inDataFormat': 1, 'inWidth': 224, 'inHeight': 224, 'resizeWidth': 256, 'resizeHeight': 256, 'postProcType': 1, 'metaArchType': None, 'metaLayersNamesList': None, 'numFrames': -1, 'inDataNamesList': None, 'outDataNamesList': None, 'calibrationOption': 0, 'biasCalibrationIterations': 10, 'writeTraceLevel': 0, 'debugTraceLevel': 0, 'totNumClasses': None, 'writeOutput': 1, 'inResizeType': 0, 'executeNetworkCompiler': 1, 'outputNetFile': '/run/user/30409/2020-08-14_19-56-56.131981/import/tidl_net.bin', 'outputParamsFile': '/run/user/30409/2020-08-14_19-56-56.131981/import/tidl_io_'}\n",
      "model import and calibration running...\n",
      "done.\n",
      "    0/?... rate=0 Hz, total=0:00:00, wall=19:56 ISTDownloading https://live.staticflickr.com/4639/27753361309_6a1d8111c6.jpg to /run/user/30409/2020-08-14_19-56-56.131981/infer/in_data/27753361309_6a1d8111c6.jpg\n",
      " 24576/?... rate=12954.14 Hz, total=0:00:01, wall=19:57 IST\n",
      "    0/?... rate=0 Hz, total=0:00:00, wall=19:57 ISTDownloading https://live.staticflickr.com/874/42446287531_b27162a558_b.jpg to /run/user/30409/2020-08-14_19-56-56.131981/infer/in_data/42446287531_b27162a558_b.jpg\n",
      " 221184/?... rate=105528.90 Hz, total=0:00:02, wall=19:57 IST\n",
      "    0/?... rate=0 Hz, total=0:00:00, wall=19:57 ISTDownloading https://upload.wikimedia.org/wikipedia/commons/e/e9/Retriever_04.JPG to /run/user/30409/2020-08-14_19-56-56.131981/infer/in_data/Retriever_04.JPG\n",
      " 2301952/?... rate=1425459.25 Hz, total=0:00:03, wall=19:57 IST\n",
      "\n",
      "Class Name:  Persian cat\n",
      "Class Name:  lion, king of beasts, Panthera leo\n",
      "Class Name:  golden retriever\n",
      "Performance Estimate:  {'cycles': 1.5, 'cycles_unit': 'Mega Cycles', 'time': 1.50456, 'time_unit': 'Milli Seconds'}\n"
     ]
    }
   ],
   "source": [
    "simple_cfg = dict(inputNetFile=model_cfg['inputNetFile'], \n",
    "                  inDataNorm=1, \n",
    "                  inMean=model_cfg['inMean'], \n",
    "                  inScale=model_cfg['inScale'],\n",
    "                  numParamBits=model_cfg['numParamBits'])\n",
    "\n",
    "pytidl_model = PyTIDLModel(**simple_cfg)\n",
    "\n",
    "\n",
    "outputs = pytidl_model(inData=['https://live.staticflickr.com/4639/27753361309_6a1d8111c6.jpg', \n",
    "                               'https://live.staticflickr.com/874/42446287531_b27162a558_b.jpg', \n",
    "                               'https://upload.wikimedia.org/wikipedia/commons/e/e9/Retriever_04.JPG'])\n",
    "\n",
    "# print the outputs\n",
    "print()\n",
    "for output in outputs:\n",
    "    class_id = output.argmax()\n",
    "    class_name = ImageNetDataset.class_descriptions[class_id]\n",
    "    print('Class Name: ', class_name)\n",
    "#\n",
    "\n",
    "# performance estimates\n",
    "perfsim_results = pytidl_model.perfsim_data()\n",
    "print('Performance Estimate: ', perfsim_results)"
   ]
  },
  {
   "cell_type": "markdown",
   "metadata": {},
   "source": [
    "#### Accuracy Benchmark"
   ]
  },
  {
   "cell_type": "code",
   "execution_count": 4,
   "metadata": {},
   "outputs": [
    {
     "name": "stdout",
     "output_type": "stream",
     "text": [
      "\n",
      "\n",
      "classification : model_path=./dependencies/modelzoo/jai-modelzoo/pytorch/vision/classifcation/jai-devkit/imagenet/mobilenet/mobilenet_v2_2019-12-24_15-32-12_opset9.onnx\n",
      "args= {'inData': {'path': './dependencies/datasets/imagenet/train', 'split': './dependencies/datasets/imagenet/train.txt', 'shuffle': True}, 'numFrames': 100, 'inputNetFile': '/data/files/a0393608/files/work/ti/bitbucket/jacinto-ai/jacinto-ai-devkit/modelhub/dependencies/modelzoo/jai-modelzoo/pytorch/vision/classifcation/jai-devkit/imagenet/mobilenet/mobilenet_v2_2019-12-24_15-32-12_opset9.onnx', 'inDataNorm': 1, 'inMean': (123.675, 116.28, 103.53), 'inScale': (0.017125, 0.017507, 0.017429), 'inResizeType': 1, 'resizeWidth': 256, 'resizeHeight': 256, 'inWidth': 224, 'inHeight': 224, 'numParamBits': 8, 'calibrationOption': 0, 'modelType': 2, 'inNumChannels': 3, 'quantizationStyle': 3, 'foldPreBnConv2D': 0, 'inDataFormat': 1, 'postProcType': 1, 'metaArchType': None, 'metaLayersNamesList': None, 'inDataNamesList': None, 'outDataNamesList': None, 'biasCalibrationIterations': 10, 'writeTraceLevel': 0, 'debugTraceLevel': 0, 'totNumClasses': None, 'writeOutput': 1, 'executeNetworkCompiler': 1, 'outputNetFile': '/data/files/a0393608/files/work/ti/bitbucket/jacinto-ai/jacinto-ai-devkit/modelhub/work_dirs/pytorch/image_classification/devkit/mobilenet_v2_2019-12-24_15-32-12_opset9/import/tidl_net.bin', 'outputParamsFile': '/data/files/a0393608/files/work/ti/bitbucket/jacinto-ai/jacinto-ai-devkit/modelhub/work_dirs/pytorch/image_classification/devkit/mobilenet_v2_2019-12-24_15-32-12_opset9/import/tidl_io_'}\n",
      "model import and calibration running...\n",
      "done.\n",
      "progress 1000/1000... rate=12.87 Hz, eta=0:00:00, total=0:01:17, wall=19:58 ISTAccuracy Benchmark:  {'metric': 56.7, 'metric_unit': 'Classification Accuracy Top1%'}\n",
      "\n",
      "Performance Estimate:  {'cycles': 1.5, 'cycles_unit': 'Mega Cycles', 'time': 1.50456, 'time_unit': 'Milli Seconds'}\n"
     ]
    }
   ],
   "source": [
    "# accuracy benchmark\n",
    "workDir = f'{workDirs}/pytorch/image_classification/devkit'\n",
    "results, model = accuracy_benchmark(model_cfg, model_type, workDir)\n",
    "print('Accuracy Benchmark: ', results)\n",
    "\n",
    "# performance estimates\n",
    "perfsim_results = model.perfsim_data()\n",
    "print('Performance Estimate: ', perfsim_results)"
   ]
  },
  {
   "cell_type": "markdown",
   "metadata": {},
   "source": [
    "## PyTorch-Jacinto-AI-DevKit MobileNetV1"
   ]
  },
  {
   "cell_type": "code",
   "execution_count": 5,
   "metadata": {},
   "outputs": [],
   "source": [
    "# classification imagenet_mobilenetv1_224x224 expected_metric: 71.89% top-1 accuracy\n",
    "model_cfg = dict(taskType='classification',\n",
    "     inputNetFile=f'{vision_modelzoo}/classifcation/jai-devkit/imagenet/mobilenet/mobilenet_v1_2019-09-06_17-15-44_opset9.onnx',\n",
    "     inDataCalibration=dict(path=f'{datasets_path}/imagenet/train', split=f'{datasets_path}/imagenet/train.txt', shuffle=True),\n",
    "     inData=dict(path=f'{datasets_path}/imagenet/val', split=f'{datasets_path}/imagenet/val.txt', shuffle=True),\n",
    "     inDataNorm=1,\n",
    "     inMean=(123.675, 116.28, 103.53),\n",
    "     inScale=(0.017125, 0.017507, 0.017429),\n",
    "     inResizeType=1, #KeepAR\n",
    "     resizeWidth=256,\n",
    "     resizeHeight=256,\n",
    "     inWidth=224,\n",
    "     inHeight=224,\n",
    "     numFrames=min(numFrames,50000),\n",
    "     **common_cfg)"
   ]
  },
  {
   "cell_type": "markdown",
   "metadata": {},
   "source": [
    "#### Accuracy Benchmark"
   ]
  },
  {
   "cell_type": "code",
   "execution_count": 6,
   "metadata": {},
   "outputs": [
    {
     "name": "stdout",
     "output_type": "stream",
     "text": [
      "\n",
      "\n",
      "classification : model_path=./dependencies/modelzoo/jai-modelzoo/pytorch/vision/classifcation/jai-devkit/imagenet/mobilenet/mobilenet_v1_2019-09-06_17-15-44_opset9.onnx\n",
      "args= {'inData': {'path': './dependencies/datasets/imagenet/train', 'split': './dependencies/datasets/imagenet/train.txt', 'shuffle': True}, 'numFrames': 100, 'inputNetFile': '/data/files/a0393608/files/work/ti/bitbucket/jacinto-ai/jacinto-ai-devkit/modelhub/dependencies/modelzoo/jai-modelzoo/pytorch/vision/classifcation/jai-devkit/imagenet/mobilenet/mobilenet_v1_2019-09-06_17-15-44_opset9.onnx', 'inDataNorm': 1, 'inMean': (123.675, 116.28, 103.53), 'inScale': (0.017125, 0.017507, 0.017429), 'inResizeType': 1, 'resizeWidth': 256, 'resizeHeight': 256, 'inWidth': 224, 'inHeight': 224, 'numParamBits': 8, 'calibrationOption': 0, 'modelType': 2, 'inNumChannels': 3, 'quantizationStyle': 3, 'foldPreBnConv2D': 0, 'inDataFormat': 1, 'postProcType': 1, 'metaArchType': None, 'metaLayersNamesList': None, 'inDataNamesList': None, 'outDataNamesList': None, 'biasCalibrationIterations': 10, 'writeTraceLevel': 0, 'debugTraceLevel': 0, 'totNumClasses': None, 'writeOutput': 1, 'executeNetworkCompiler': 1, 'outputNetFile': '/data/files/a0393608/files/work/ti/bitbucket/jacinto-ai/jacinto-ai-devkit/modelhub/work_dirs/pytorch/image_classification/devkit/mobilenet_v1_2019-09-06_17-15-44_opset9/import/tidl_net.bin', 'outputParamsFile': '/data/files/a0393608/files/work/ti/bitbucket/jacinto-ai/jacinto-ai-devkit/modelhub/work_dirs/pytorch/image_classification/devkit/mobilenet_v1_2019-09-06_17-15-44_opset9/import/tidl_io_'}\n",
      "model import and calibration running...\n",
      "done.\n",
      "progress 1000/1000... rate=16.67 Hz, eta=0:00:00, total=0:00:59, wall=20:00 ISTAccuracy Benchmark:  {'metric': 64.6, 'metric_unit': 'Classification Accuracy Top1%'}\n",
      "\n",
      "Performance Estimate:  {'cycles': 1.3, 'cycles_unit': 'Mega Cycles', 'time': 1.3018399999999999, 'time_unit': 'Milli Seconds'}\n"
     ]
    }
   ],
   "source": [
    "# accuracy benchmark\n",
    "workDir = f'{workDirs}/pytorch/image_classification/devkit'\n",
    "results, model = accuracy_benchmark(model_cfg, model_type, workDir)\n",
    "print('Accuracy Benchmark: ', results)\n",
    "\n",
    "# performance estimates\n",
    "perfsim_results = model.perfsim_data()\n",
    "print('Performance Estimate: ', perfsim_results)"
   ]
  },
  {
   "cell_type": "code",
   "execution_count": null,
   "metadata": {},
   "outputs": [],
   "source": []
  }
 ],
 "metadata": {
  "kernelspec": {
   "display_name": "Python 3",
   "language": "python",
   "name": "python3"
  },
  "language_info": {
   "codemirror_mode": {
    "name": "ipython",
    "version": 3
   },
   "file_extension": ".py",
   "mimetype": "text/x-python",
   "name": "python",
   "nbconvert_exporter": "python",
   "pygments_lexer": "ipython3",
   "version": "3.7.6"
  }
 },
 "nbformat": 4,
 "nbformat_minor": 4
}
