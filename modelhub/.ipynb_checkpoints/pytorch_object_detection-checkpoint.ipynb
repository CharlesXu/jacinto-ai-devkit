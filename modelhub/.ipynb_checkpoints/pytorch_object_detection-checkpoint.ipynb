{
 "cells": [
  {
   "cell_type": "markdown",
   "metadata": {},
   "source": [
    "# Object detection"
   ]
  },
  {
   "cell_type": "markdown",
   "metadata": {},
   "source": [
    "## Common settings:"
   ]
  },
  {
   "cell_type": "code",
   "execution_count": null,
   "metadata": {},
   "outputs": [],
   "source": [
    "import os\n",
    "from pytidl.benchmark import analysis\n",
    "from pytidl.benchmark.model.pytidl_model import PyTIDLModel\n",
    "\n",
    "model_type = PyTIDLModel\n",
    "workDirs = './work_dirs'\n",
    "numFrames = 1000\n",
    "vision_modelzoo = './dependencies/modelzoo/jai-modelzoo/pytorch/vision'\n",
    "datasets_path = './dependencies/datasets'\n",
    "\n",
    "common_configs = dict(\n",
    "    numParamBits=32, #8, #16, #32,\n",
    "    numFramesCalibration=100,\n",
    "    calibrationBackend=None, #'pytorch'\n",
    "    calibrationOption=0, #0, #7,\n",
    "    biasCalibrationIterations=10,\n",
    "    writeOutput=1 #2 #change to 2 after TIDL issue is fixed\n",
    ")"
   ]
  },
  {
   "cell_type": "markdown",
   "metadata": {},
   "source": [
    "#### PyTorch-Jacinto-AI-DevKit SSDLite RegNet800MF"
   ]
  },
  {
   "cell_type": "code",
   "execution_count": null,
   "metadata": {},
   "outputs": [],
   "source": [
    "# detection - coco_ssd-lite-regnetx-800mf_bgr_512x512 - expected_metric: 29.9% COCO AP[0.5-0.95]\n",
    "model_cfg = dict(taskType='detection',\n",
    "     inputNetFile=f'{vision_modelzoo}/od/xmmdet/coco/ssd/coco_ssd-lite_regnetx-800mf_fpn_bgr_512x512_20200718-102254_model.onnx',\n",
    "     metaLayersNamesList=f'{vision_modelzoo}/od/xmmdet/coco/ssd/coco_ssd-lite_regnetx-800mf_fpn_bgr_512x512_20200718-102254_model.prototxt',\n",
    "     metaArchType=3,\n",
    "     inDataCalibration=dict(path='{datasets_path}/coco', split='train2017', shuffle=True),\n",
    "     inData=dict(path='{datasets_path}/coco', split='val2017'),\n",
    "     inDataNorm=1,\n",
    "     inMean=(103.53, 116.28, 123.675),  # BGR\n",
    "     inScale=(0.017429, 0.017507, 0.017125),  # BGR\n",
    "     inDataFormat=0,  # BGR\n",
    "     backgroundLabelId=80,\n",
    "     postProcType=2,\n",
    "     inResizeType=0,  # Don't keepAR\n",
    "     resizeWidth=512,\n",
    "     resizeHeight=512,\n",
    "     inWidth=512,\n",
    "     inHeight=512,\n",
    "     numFrames=min(numFrames, 5000),\n",
    "     **common_configs)\n",
    "\n",
    "workDir = f'{workDirs}/pytorch/image_segmentation/devkit'\n",
    "analysis.accuracy_benchmark(model_cfg, model_type, workDir)"
   ]
  }
 ],
 "metadata": {
  "kernelspec": {
   "display_name": "Python 3",
   "language": "python",
   "name": "python3"
  },
  "language_info": {
   "codemirror_mode": {
    "name": "ipython",
    "version": 3
   },
   "file_extension": ".py",
   "mimetype": "text/x-python",
   "name": "python",
   "nbconvert_exporter": "python",
   "pygments_lexer": "ipython3",
   "version": "3.7.6"
  }
 },
 "nbformat": 4,
 "nbformat_minor": 4
}
