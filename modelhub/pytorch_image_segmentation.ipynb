{
 "cells": [
  {
   "cell_type": "markdown",
   "metadata": {},
   "source": [
    "# Image Classification"
   ]
  },
  {
   "cell_type": "markdown",
   "metadata": {},
   "source": [
    "## Common settings:"
   ]
  },
  {
   "cell_type": "code",
   "execution_count": 2,
   "metadata": {},
   "outputs": [],
   "source": [
    "from pytidl.benchmark import analysis\n",
    "from pytidl.benchmark.model.pytidl_model import PyTIDLModel\n",
    "\n",
    "model_type = PyTIDLModel\n",
    "workDirs = './work_dirs'\n",
    "numFrames = 1000\n",
    "vision_modelzoo = './dependencies/modelzoo/jai-modelzoo/pytorch/vision'\n",
    "datasets_path = './dependencies/datasets'\n",
    "\n",
    "common_configs = dict(\n",
    "    numParamBits=32, #8, #16, #32,\n",
    "    numFramesCalibration=100,\n",
    "    calibrationBackend=None, #'pytorch'\n",
    "    calibrationOption=0, #0, #7,\n",
    "    biasCalibrationIterations=10,\n",
    "    writeOutput=1 #2 #change to 2 after TIDL issue is fixed\n",
    ")"
   ]
  },
  {
   "cell_type": "markdown",
   "metadata": {},
   "source": [
    "#### PyTorch-Jacinto-AI-DevKit DeeplabV3Lite-MobileNetV2"
   ]
  },
  {
   "cell_type": "code",
   "execution_count": 3,
   "metadata": {},
   "outputs": [
    {
     "name": "stdout",
     "output_type": "stream",
     "text": [
      "\n",
      "\n",
      "segmentation : model_path=./dependencies/modelzoo/jai-modelzoo/pytorch/vision/semseg/jai-devkit/cityscapes/mobilenet/cityscapes_deeplabv3lite_mobilenetv2_tv_768x384_2019-06-26-08-59-32_opset9.onnx\n",
      "=> model import\n",
      "=> model inference\n",
      "args= {'inData': [], 'inputNetFile': '/data/files/a0393608/files/work/ti/bitbucket/jacinto-ai/jacinto-ai-devkit/modelhub/dependencies/modelzoo/jai-modelzoo/pytorch/vision/semseg/jai-devkit/cityscapes/mobilenet/cityscapes_deeplabv3lite_mobilenetv2_tv_768x384_2019-06-26-08-59-32_opset9.onnx', 'inDataNorm': 1, 'inMean': (128, 128, 128), 'inScale': (0.015625, 0.015625, 0.015625), 'postProcType': 4, 'inResizeType': 0, 'resizeWidth': 768, 'resizeHeight': 384, 'inWidth': 768, 'inHeight': 384, 'numParamBits': 32, 'calibrationOption': 0, 'biasCalibrationIterations': 10, 'writeOutput': 1, 'numFrames': 100, 'modelType': 2, 'inNumChannels': 3, 'quantizationStyle': 3, 'foldPreBnConv2D': 0, 'inDataFormat': 1, 'metaArchType': None, 'metaLayersNamesList': None, 'inDataNamesList': None, 'outDataNamesList': None, 'writeTraceLevel': 0, 'debugTraceLevel': 0, 'totNumClasses': None, 'outputNetFile': '/data/files/a0393608/files/work/ti/bitbucket/jacinto-ai/jacinto-ai-devkit/modelhub/work_dirs/pytorch/image_segmentation/devkit/cityscapes_deeplabv3lite_mobilenetv2_tv_768x384_2019-06-26-08-59-32_opset9/import/tidl_net.bin', 'outputParamsFile': '/data/files/a0393608/files/work/ti/bitbucket/jacinto-ai/jacinto-ai-devkit/modelhub/work_dirs/pytorch/image_segmentation/devkit/cityscapes_deeplabv3lite_mobilenetv2_tv_768x384_2019-06-26-08-59-32_opset9/import/tidl_io_'}\n",
      "progress 500/500... rate=1.10 Hz, eta=0:00:00, total=0:07:34, wall=21:56 IST{'metric': 46.406968159151745, 'metric_unit': 'MeanIoU%', 'elapsed_time': 473.92884492874146}\n"
     ]
    }
   ],
   "source": [
    "# segmentation - cityscapes_deeplabv3lite-mobilenetv2_768x384 - expected_metric: 69.13% MeanIoU\n",
    "model_cfg = dict(taskType='segmentation',\n",
    "     inputNetFile=f'{vision_modelzoo}/semseg/jai-devkit/cityscapes/mobilenet/cityscapes_deeplabv3lite_mobilenetv2_tv_768x384_2019-06-26-08-59-32_opset9.onnx',\n",
    "     inDataCalibration=dict(path='{datasets_path}/cityscapes/data', split='train', shuffle=True),\n",
    "     inData=dict(path=f'{datasets_path}/cityscapes/data', split='val', shuffle=False),\n",
    "     inDataNorm=1,\n",
    "     inMean=(128, 128, 128),\n",
    "     inScale=(0.015625, 0.015625, 0.015625),\n",
    "     postProcType=4,\n",
    "     inResizeType=0,  # Don't KeepAR\n",
    "     resizeWidth=768,\n",
    "     resizeHeight=384,\n",
    "     inWidth=768,\n",
    "     inHeight=384,\n",
    "     numFrames=min(numFrames,500),\n",
    "     **common_configs)\n",
    "\n",
    "workDir = f'{workDirs}/pytorch/image_segmentation/devkit'\n",
    "analysis.accuracy_benchmark(model_cfg, model_type, workDir)"
   ]
  },
  {
   "cell_type": "code",
   "execution_count": null,
   "metadata": {},
   "outputs": [],
   "source": []
  }
 ],
 "metadata": {
  "kernelspec": {
   "display_name": "Python 3",
   "language": "python",
   "name": "python3"
  },
  "language_info": {
   "codemirror_mode": {
    "name": "ipython",
    "version": 3
   },
   "file_extension": ".py",
   "mimetype": "text/x-python",
   "name": "python",
   "nbconvert_exporter": "python",
   "pygments_lexer": "ipython3",
   "version": "3.7.6"
  }
 },
 "nbformat": 4,
 "nbformat_minor": 4
}
