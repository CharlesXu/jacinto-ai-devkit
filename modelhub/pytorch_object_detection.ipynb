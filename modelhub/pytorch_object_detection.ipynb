{
 "cells": [
  {
   "cell_type": "markdown",
   "metadata": {},
   "source": [
    "# Object detection"
   ]
  },
  {
   "cell_type": "markdown",
   "metadata": {},
   "source": [
    "## Common settings:"
   ]
  },
  {
   "cell_type": "code",
   "execution_count": 1,
   "metadata": {},
   "outputs": [],
   "source": [
    "from pytidl.benchmark.analysis import accuracy_benchmark\n",
    "from pytidl.benchmark.model.pytidl_model import PyTIDLModel\n",
    "\n",
    "model_type = PyTIDLModel\n",
    "workDirs = './work_dirs'\n",
    "numFrames = 1000\n",
    "vision_modelzoo = './dependencies/modelzoo/jai-modelzoo/pytorch/vision'\n",
    "datasets_path = './dependencies/datasets'\n",
    "\n",
    "common_configs = dict(\n",
    "    numParamBits=32, #8, #16, #32,\n",
    "    numFramesCalibration=100,\n",
    "    calibrationBackend=None, #'pytorch'\n",
    "    calibrationOption=0, #0, #7,\n",
    "    biasCalibrationIterations=10,\n",
    "    writeOutput=1 #2 #change to 2 after TIDL issue is fixed\n",
    ")"
   ]
  },
  {
   "cell_type": "markdown",
   "metadata": {},
   "source": [
    "#### PyTorch-Jacinto-AI-DevKit SSDLite RegNet800MF"
   ]
  },
  {
   "cell_type": "code",
   "execution_count": 2,
   "metadata": {},
   "outputs": [
    {
     "name": "stdout",
     "output_type": "stream",
     "text": [
      "\n",
      "\n",
      "detection : model_path=./dependencies/modelzoo/jai-modelzoo/pytorch/vision/od/xmmdet/coco/ssd/coco_ssd-lite_regnetx-800mf_fpn_bgr_512x512_20200718-102254_model.onnx\n",
      "=> model import\n",
      "=> model inference\n",
      "loading annotations into memory...\n",
      "Done (t=15.66s)\n",
      "creating index...\n",
      "index created!\n",
      "args= {'inData': ['./dependencies/datasets/coco/train2017/000000391895.jpg', './dependencies/datasets/coco/train2017/000000522418.jpg', './dependencies/datasets/coco/train2017/000000184613.jpg', './dependencies/datasets/coco/train2017/000000318219.jpg', './dependencies/datasets/coco/train2017/000000554625.jpg', './dependencies/datasets/coco/train2017/000000574769.jpg', './dependencies/datasets/coco/train2017/000000060623.jpg', './dependencies/datasets/coco/train2017/000000309022.jpg', './dependencies/datasets/coco/train2017/000000005802.jpg', './dependencies/datasets/coco/train2017/000000222564.jpg', './dependencies/datasets/coco/train2017/000000118113.jpg', './dependencies/datasets/coco/train2017/000000193271.jpg', './dependencies/datasets/coco/train2017/000000224736.jpg', './dependencies/datasets/coco/train2017/000000483108.jpg', './dependencies/datasets/coco/train2017/000000403013.jpg', './dependencies/datasets/coco/train2017/000000374628.jpg', './dependencies/datasets/coco/train2017/000000328757.jpg', './dependencies/datasets/coco/train2017/000000384213.jpg', './dependencies/datasets/coco/train2017/000000293802.jpg', './dependencies/datasets/coco/train2017/000000086408.jpg', './dependencies/datasets/coco/train2017/000000372938.jpg', './dependencies/datasets/coco/train2017/000000386164.jpg', './dependencies/datasets/coco/train2017/000000223648.jpg', './dependencies/datasets/coco/train2017/000000204805.jpg', './dependencies/datasets/coco/train2017/000000113588.jpg', './dependencies/datasets/coco/train2017/000000384553.jpg', './dependencies/datasets/coco/train2017/000000337264.jpg', './dependencies/datasets/coco/train2017/000000368402.jpg', './dependencies/datasets/coco/train2017/000000012448.jpg', './dependencies/datasets/coco/train2017/000000079841.jpg', './dependencies/datasets/coco/train2017/000000515289.jpg', './dependencies/datasets/coco/train2017/000000562150.jpg', './dependencies/datasets/coco/train2017/000000542145.jpg', './dependencies/datasets/coco/train2017/000000412151.jpg', './dependencies/datasets/coco/train2017/000000579003.jpg', './dependencies/datasets/coco/train2017/000000540186.jpg', './dependencies/datasets/coco/train2017/000000242611.jpg', './dependencies/datasets/coco/train2017/000000051191.jpg', './dependencies/datasets/coco/train2017/000000269105.jpg', './dependencies/datasets/coco/train2017/000000294832.jpg', './dependencies/datasets/coco/train2017/000000462565.jpg', './dependencies/datasets/coco/train2017/000000144941.jpg', './dependencies/datasets/coco/train2017/000000173350.jpg', './dependencies/datasets/coco/train2017/000000060760.jpg', './dependencies/datasets/coco/train2017/000000324266.jpg', './dependencies/datasets/coco/train2017/000000166532.jpg', './dependencies/datasets/coco/train2017/000000262284.jpg', './dependencies/datasets/coco/train2017/000000360772.jpg', './dependencies/datasets/coco/train2017/000000191381.jpg', './dependencies/datasets/coco/train2017/000000111076.jpg', './dependencies/datasets/coco/train2017/000000340559.jpg', './dependencies/datasets/coco/train2017/000000258985.jpg', './dependencies/datasets/coco/train2017/000000509822.jpg', './dependencies/datasets/coco/train2017/000000321107.jpg', './dependencies/datasets/coco/train2017/000000229643.jpg', './dependencies/datasets/coco/train2017/000000125059.jpg', './dependencies/datasets/coco/train2017/000000455483.jpg', './dependencies/datasets/coco/train2017/000000436141.jpg', './dependencies/datasets/coco/train2017/000000129001.jpg', './dependencies/datasets/coco/train2017/000000232262.jpg', './dependencies/datasets/coco/train2017/000000061181.jpg', './dependencies/datasets/coco/train2017/000000166323.jpg', './dependencies/datasets/coco/train2017/000000580041.jpg', './dependencies/datasets/coco/train2017/000000326781.jpg', './dependencies/datasets/coco/train2017/000000387362.jpg', './dependencies/datasets/coco/train2017/000000138079.jpg', './dependencies/datasets/coco/train2017/000000556616.jpg', './dependencies/datasets/coco/train2017/000000472621.jpg', './dependencies/datasets/coco/train2017/000000192440.jpg', './dependencies/datasets/coco/train2017/000000086320.jpg', './dependencies/datasets/coco/train2017/000000256668.jpg', './dependencies/datasets/coco/train2017/000000383445.jpg', './dependencies/datasets/coco/train2017/000000565797.jpg', './dependencies/datasets/coco/train2017/000000081922.jpg', './dependencies/datasets/coco/train2017/000000050125.jpg', './dependencies/datasets/coco/train2017/000000364521.jpg', './dependencies/datasets/coco/train2017/000000394892.jpg', './dependencies/datasets/coco/train2017/000000001146.jpg', './dependencies/datasets/coco/train2017/000000310391.jpg', './dependencies/datasets/coco/train2017/000000097434.jpg', './dependencies/datasets/coco/train2017/000000463836.jpg', './dependencies/datasets/coco/train2017/000000241876.jpg', './dependencies/datasets/coco/train2017/000000156832.jpg', './dependencies/datasets/coco/train2017/000000270721.jpg', './dependencies/datasets/coco/train2017/000000462341.jpg', './dependencies/datasets/coco/train2017/000000310103.jpg', './dependencies/datasets/coco/train2017/000000032992.jpg', './dependencies/datasets/coco/train2017/000000122851.jpg', './dependencies/datasets/coco/train2017/000000540763.jpg', './dependencies/datasets/coco/train2017/000000138246.jpg', './dependencies/datasets/coco/train2017/000000197254.jpg', './dependencies/datasets/coco/train2017/000000032907.jpg', './dependencies/datasets/coco/train2017/000000251252.jpg', './dependencies/datasets/coco/train2017/000000037675.jpg', './dependencies/datasets/coco/train2017/000000159537.jpg', './dependencies/datasets/coco/train2017/000000268556.jpg', './dependencies/datasets/coco/train2017/000000271177.jpg', './dependencies/datasets/coco/train2017/000000075051.jpg', './dependencies/datasets/coco/train2017/000000549399.jpg', './dependencies/datasets/coco/train2017/000000085160.jpg'], 'inputNetFile': '/data/files/a0393608/files/work/ti/bitbucket/jacinto-ai/jacinto-ai-devkit/modelhub/dependencies/modelzoo/jai-modelzoo/pytorch/vision/od/xmmdet/coco/ssd/coco_ssd-lite_regnetx-800mf_fpn_bgr_512x512_20200718-102254_model.onnx', 'metaLayersNamesList': './dependencies/modelzoo/jai-modelzoo/pytorch/vision/od/xmmdet/coco/ssd/coco_ssd-lite_regnetx-800mf_fpn_bgr_512x512_20200718-102254_model.prototxt', 'metaArchType': 3, 'inDataNorm': 1, 'inMean': (103.53, 116.28, 123.675), 'inScale': (0.017429, 0.017507, 0.017125), 'inDataFormat': 0, 'postProcType': 2, 'inResizeType': 0, 'resizeWidth': 512, 'resizeHeight': 512, 'inWidth': 512, 'inHeight': 512, 'numParamBits': 32, 'calibrationOption': 0, 'biasCalibrationIterations': 10, 'writeOutput': 1, 'numFrames': 100, 'modelType': 2, 'inNumChannels': 3, 'quantizationStyle': 3, 'foldPreBnConv2D': 0, 'inDataNamesList': None, 'outDataNamesList': None, 'writeTraceLevel': 0, 'debugTraceLevel': 0, 'totNumClasses': None, 'outputNetFile': '/data/files/a0393608/files/work/ti/bitbucket/jacinto-ai/jacinto-ai-devkit/modelhub/work_dirs/pytorch/image_segmentation/devkit/coco_ssd-lite_regnetx-800mf_fpn_bgr_512x512_20200718-102254_model/import/tidl_net.bin', 'outputParamsFile': '/data/files/a0393608/files/work/ti/bitbucket/jacinto-ai/jacinto-ai-devkit/modelhub/work_dirs/pytorch/image_segmentation/devkit/coco_ssd-lite_regnetx-800mf_fpn_bgr_512x512_20200718-102254_model/import/tidl_io_'}\n",
      "loading annotations into memory...\n"
     ]
    },
    {
     "name": "stderr",
     "output_type": "stream",
     "text": [
      "/data/files/a0393608/files/work/ti/bitbucket/jacinto-ai/pytidl-benchmark/pytidl/benchmark/analysis/detection.py:25: UserWarning: issue with detectionOutoutLayer: forcing writeOutput=1\n",
      "  warnings.warn('issue with detectionOutoutLayer: forcing writeOutput=1')\n"
     ]
    },
    {
     "name": "stdout",
     "output_type": "stream",
     "text": [
      "Done (t=0.60s)\n",
      "creating index...\n",
      "index created!\n",
      "progress 1000/1000...AvgDetections=4.72 rate=1.64 Hz, eta=0:00:00, total=0:10:11, wall=22:00 ISTLoading and preparing results...\n",
      "DONE (t=0.02s)\n",
      "creating index...\n",
      "index created!\n",
      "Running per image evaluation...\n",
      "Evaluate annotation type *bbox*\n",
      "DONE (t=2.51s).\n",
      "Accumulating evaluation results...\n",
      "DONE (t=0.70s).\n",
      "Average Precision  (AP) @[ IoU=0.50:0.95 | area=   all | maxDets=100 ] = 0.263\n",
      "Average Precision  (AP) @[ IoU=0.50      | area=   all | maxDets=100 ] = 0.405\n",
      "Average Precision  (AP) @[ IoU=0.75      | area=   all | maxDets=100 ] = 0.278\n",
      "Average Precision  (AP) @[ IoU=0.50:0.95 | area= small | maxDets=100 ] = 0.073\n",
      "Average Precision  (AP) @[ IoU=0.50:0.95 | area=medium | maxDets=100 ] = 0.278\n",
      "Average Precision  (AP) @[ IoU=0.50:0.95 | area= large | maxDets=100 ] = 0.465\n",
      "Average Recall     (AR) @[ IoU=0.50:0.95 | area=   all | maxDets=  1 ] = 0.225\n",
      "Average Recall     (AR) @[ IoU=0.50:0.95 | area=   all | maxDets= 10 ] = 0.300\n",
      "Average Recall     (AR) @[ IoU=0.50:0.95 | area=   all | maxDets=100 ] = 0.302\n",
      "Average Recall     (AR) @[ IoU=0.50:0.95 | area= small | maxDets=100 ] = 0.076\n",
      "Average Recall     (AR) @[ IoU=0.50:0.95 | area=medium | maxDets=100 ] = 0.317\n",
      "Average Recall     (AR) @[ IoU=0.50:0.95 | area= large | maxDets=100 ] = 0.531\n",
      "{'metric': 26.277538489728386, 'metric_unit': 'AP[.5:.95]%', 'elapsed_time': 637.8898184299469}\n"
     ]
    }
   ],
   "source": [
    "# detection - coco_ssd-lite-regnetx-800mf_bgr_512x512 - expected_metric: 29.9% COCO AP[0.5-0.95]\n",
    "model_cfg = dict(taskType='detection',\n",
    "     inputNetFile=f'{vision_modelzoo}/od/xmmdet/coco/ssd/coco_ssd-lite_regnetx-800mf_fpn_bgr_512x512_20200718-102254_model.onnx',\n",
    "     metaLayersNamesList=f'{vision_modelzoo}/od/xmmdet/coco/ssd/coco_ssd-lite_regnetx-800mf_fpn_bgr_512x512_20200718-102254_model.prototxt',\n",
    "     metaArchType=3,\n",
    "     inDataCalibration=dict(path=f'{datasets_path}/coco', split='train2017', shuffle=True),\n",
    "     inData=dict(path=f'{datasets_path}/coco', split='val2017'),\n",
    "     inDataNorm=1,\n",
    "     inMean=(103.53, 116.28, 123.675),  # BGR\n",
    "     inScale=(0.017429, 0.017507, 0.017125),  # BGR\n",
    "     inDataFormat=0,  # BGR\n",
    "     backgroundLabelId=80,\n",
    "     postProcType=2,\n",
    "     inResizeType=0,  # Don't keepAR\n",
    "     resizeWidth=512,\n",
    "     resizeHeight=512,\n",
    "     inWidth=512,\n",
    "     inHeight=512,\n",
    "     numFrames=min(numFrames, 5000),\n",
    "     **common_configs)\n",
    "\n",
    "workDir = f'{workDirs}/pytorch/image_segmentation/devkit'\n",
    "accuracy_benchmark(model_cfg, model_type, workDir)"
   ]
  }
 ],
 "metadata": {
  "kernelspec": {
   "display_name": "Python 3",
   "language": "python",
   "name": "python3"
  },
  "language_info": {
   "codemirror_mode": {
    "name": "ipython",
    "version": 3
   },
   "file_extension": ".py",
   "mimetype": "text/x-python",
   "name": "python",
   "nbconvert_exporter": "python",
   "pygments_lexer": "ipython3",
   "version": "3.7.6"
  }
 },
 "nbformat": 4,
 "nbformat_minor": 4
}
